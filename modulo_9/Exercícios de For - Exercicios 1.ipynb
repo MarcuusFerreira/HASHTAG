{
 "cells": [
  {
   "cell_type": "markdown",
   "metadata": {},
   "source": [
    "# Exercícios\n",
    "\n",
    "## 1. Criando um Registro de Hóspedes\n",
    "\n",
    "Digamos que você está criando o sistema para registrar a chegada de hóspedes em um hotel. No hotel, os hóspedes podem ter quartos com 1, 2, 3 e 4 pessoas. Seu sistema deve conseguir:\n",
    "\n",
    "1. Identificar quantas pessoas o hóspede que acabou de chegar vai ter no quarto (perguntando por meio de input)\n",
    "2. De acordo com a quantidade de pessoas do hóspede, ele deve fazer um for para perguntar o cpf e o nome de cada pessoa, a fim de registrá-la no quarto (2 inputs para cada pessoa, 1 para o cpf e outro para o nome)\n",
    "3. O seu programa então deve gerar uma lista com todas as pessoas que ficarão no quarto em que cada item dessa lista é o nome da pessoa e o cpf da pessoa, assim:"
   ]
  },
  {
   "cell_type": "raw",
   "metadata": {},
   "source": [
    "quarto = [\n",
    "    ['João', 'cpf:00000000000'],\n",
    "    ['Julia', 'cpf:11111111111'],\n",
    "    ['Marcus', 'cpf:22222222222'],\n",
    "    ['Maria', 'cpf:33333333333'],\n",
    "]"
   ]
  },
  {
   "cell_type": "markdown",
   "metadata": {},
   "source": [
    "- Para simplificar, não vamos nos preocupar com possibilidades de \"tentar colocar mais de 1 hóspede, digitar o cpf errado, etc. Nosso objetivo é treinar a criação de uma rotina de cadastro"
   ]
  },
  {
   "cell_type": "code",
   "execution_count": 3,
   "metadata": {},
   "outputs": [
    {
     "name": "stdout",
     "output_type": "stream",
     "text": [
      "['Marcus', 'cpf:1']\n",
      "['Bruna', 'cpf:2']\n"
     ]
    }
   ],
   "source": [
    "#seu código aqui\n",
    "qtd_pessoas = int(input('Informe o numero de hospedes no quarto: '))\n",
    "\n",
    "quarto = []\n",
    "\n",
    "for i in range(qtd_pessoas):\n",
    "    nome = str(input('Informe o nome do hóspede: '))\n",
    "    cpf = int(input('Informe o cpf do hóspede'))\n",
    "    cpf = 'cpf:' + str(cpf)\n",
    "    hospede = [nome, cpf]\n",
    "    quarto.append(hospede)\n",
    "\n",
    "for lista in quarto:\n",
    "    print(lista)"
   ]
  },
  {
   "cell_type": "markdown",
   "metadata": {},
   "source": [
    "## 2. Análise de Vendas\n",
    "\n",
    "Nesse exercício vamos fazer uma \"análise simples\" de atingimento de Meta.\n",
    "\n",
    "Temos uma lista com os vendedores e os valores de vendas e queremos identificar (printar) quais os vendedores que bateram a meta e qual foi o valor que eles venderam."
   ]
  },
  {
   "cell_type": "code",
   "execution_count": 7,
   "metadata": {},
   "outputs": [
    {
     "name": "stdout",
     "output_type": "stream",
     "text": [
      "O João bateu a meta, com um total de 15,000 unidades vendidas\n",
      "O Julia bateu a meta, com um total de 27,000 unidades vendidas\n",
      "O Ana bateu a meta, com um total de 10,300 unidades vendidas\n"
     ]
    }
   ],
   "source": [
    "meta = 10000\n",
    "vendas = [\n",
    "    ['João', 15000],\n",
    "    ['Julia', 27000],\n",
    "    ['Marcus', 9900],\n",
    "    ['Maria', 3750],\n",
    "    ['Ana', 10300],\n",
    "    ['Alon', 7870],\n",
    "]\n",
    "#seu código aqui\n",
    "\n",
    "for lista in vendas:\n",
    "    if lista[1] >= meta:\n",
    "        print(f'O {lista[0]} bateu a meta, com um total de {lista[1]:,} unidades vendidas')"
   ]
  },
  {
   "cell_type": "markdown",
   "metadata": {},
   "source": [
    "## 3. Comparação com Ano Anterior\n",
    "\n",
    "Digamos que você está analisando as vendas de produtos de um ecommerce e quer identificar quais produtos tiveram no ano de 2020 mais vendas do que no ano de 2019, para reportar isso para a diretoria.\n",
    "\n",
    "Sua resposta pode ser um print de cada produto, qual foi a venda de 2019, a venda de 2020 e o % de crescimento de 2020 para 2019.\n",
    "\n",
    "Lembrando, para calcular o % de crescimento de um produto de um ano para o outro, podemos fazer: (vendas_produto2020/vendas_produto2019 - 1)\n",
    "\n",
    "Dica: lembre do enumerate, ele pode facilitar seu \"for\""
   ]
  },
  {
   "cell_type": "code",
   "execution_count": 5,
   "metadata": {},
   "outputs": [
    {
     "name": "stdout",
     "output_type": "stream",
     "text": [
      "IPHONE foi mais vendido no ano de 2020 com 951,642 unidades do que no ano de 2019 com 558,147 unidades\n",
      "GALAXY foi vendido mais no ano de 2019 com 712,350 unidades do que em 2020 com 244,295 unidades\n",
      "IPAD foi vendido mais no ano de 2019 com 573,823 unidades do que em 2020 com 26,964 unidades\n",
      "TV foi mais vendido no ano de 2020 com 787,604 unidades do que no ano de 2019 com 405,252 unidades\n",
      "MÁQUINA DE CAFÉ foi mais vendido no ano de 2020 com 867,660 unidades do que no ano de 2019 com 718,654 unidades\n",
      "KINDLE foi vendido mais no ano de 2019 com 531,580 unidades do que em 2020 com 78,830 unidades\n",
      "GELADEIRA foi vendido mais no ano de 2019 com 973,139 unidades do que em 2020 com 710,331 unidades\n",
      "ADEGA foi vendido mais no ano de 2019 com 892,292 unidades do que em 2020 com 646,016 unidades\n",
      "NOTEBOOK DELL foi mais vendido no ano de 2020 com 694,913 unidades do que no ano de 2019 com 422,760 unidades\n",
      "NOTEBOOK HP foi mais vendido no ano de 2020 com 539,704 unidades do que no ano de 2019 com 154,753 unidades\n",
      "NOTEBOOK ASUS foi vendido mais no ano de 2019 com 887,061 unidades do que em 2020 com 324,831 unidades\n",
      "MICROSOFT SURFACE foi mais vendido no ano de 2020 com 667,179 unidades do que no ano de 2019 com 438,508 unidades\n",
      "WEBCAM foi mais vendido no ano de 2020 com 295,633 unidades do que no ano de 2019 com 237,467 unidades\n",
      "CAIXA DE SOM foi mais vendido no ano de 2020 com 725,316 unidades do que no ano de 2019 com 489,705 unidades\n",
      "MICROFONE foi mais vendido no ano de 2020 com 644,622 unidades do que no ano de 2019 com 328,311 unidades\n",
      "CÂMERA CANON foi mais vendido no ano de 2020 com 994,303 unidades do que no ano de 2019 com 591,120 unidades\n"
     ]
    }
   ],
   "source": [
    "produtos = ['iphone', 'galaxy', 'ipad', 'tv', 'máquina de café', 'kindle', 'geladeira', 'adega', 'notebook dell', 'notebook hp', 'notebook asus', 'microsoft surface', 'webcam', 'caixa de som', 'microfone', 'câmera canon']\n",
    "vendas2019 = [558147,712350,573823,405252,718654,531580,973139,892292,422760,154753,887061,438508,237467,489705,328311,591120]\n",
    "vendas2020 = [951642,244295,26964,787604,867660,78830,710331,646016,694913,539704,324831,667179,295633,725316,644622,994303]\n",
    "#seu código aqui\n",
    "\n",
    "for i, produto in enumerate(produtos):\n",
    "    if vendas2019[i] > vendas2020[i]:\n",
    "        print(f'{produto.upper()} foi vendido mais no ano de 2019 com {vendas2019[i]:,} unidades do que em 2020 com {vendas2020[i]:,} unidades')\n",
    "    elif vendas2019[i] == vendas2020[i]:\n",
    "        print(f'{produto.upper()} teve as mesmas vendas em 2019 e 2020')\n",
    "    else:\n",
    "        print(f'{produto.upper()} foi mais vendido no ano de 2020 com {vendas2020[i]:,} unidades do que no ano de 2019 com {vendas2019[i]:,} unidades')"
   ]
  }
 ],
 "metadata": {
  "kernelspec": {
   "display_name": "Python 3",
   "language": "python",
   "name": "python3"
  },
  "language_info": {
   "codemirror_mode": {
    "name": "ipython",
    "version": 3
   },
   "file_extension": ".py",
   "mimetype": "text/x-python",
   "name": "python",
   "nbconvert_exporter": "python",
   "pygments_lexer": "ipython3",
   "version": "3.11.4"
  }
 },
 "nbformat": 4,
 "nbformat_minor": 4
}
