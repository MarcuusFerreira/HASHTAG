{
 "cells": [
  {
   "cell_type": "markdown",
   "metadata": {},
   "source": [
    "# Argumentos/Parâmetros da Função\n",
    "\n",
    "### Estrutura:"
   ]
  },
  {
   "cell_type": "raw",
   "metadata": {},
   "source": [
    "def minha_funcao(parametro1, parametro2, parametro3):\n",
    "    return parametro1 + parametro2 + parametro3"
   ]
  },
  {
   "cell_type": "markdown",
   "metadata": {},
   "source": [
    "- Exemplo: nosso famoso print"
   ]
  },
  {
   "cell_type": "code",
   "execution_count": 1,
   "metadata": {},
   "outputs": [],
   "source": [
    "def soma_numeros(num1, num2, num3):\n",
    "    return num1 + num2 + num3"
   ]
  },
  {
   "cell_type": "markdown",
   "metadata": {},
   "source": [
    "- Só para mostrar o funcionamento, vamos criar uma função de soma"
   ]
  },
  {
   "cell_type": "code",
   "execution_count": 2,
   "metadata": {},
   "outputs": [
    {
     "data": {
      "text/plain": [
       "70"
      ]
     },
     "execution_count": 2,
     "metadata": {},
     "output_type": "execute_result"
    }
   ],
   "source": [
    "soma_numeros(10, 20, 40)"
   ]
  },
  {
   "cell_type": "markdown",
   "metadata": {},
   "source": [
    "- Vamos criar uma function com parâmetro\n",
    "\n",
    "Digamos que estamos criando um programa para categorizar os produtos de uma revendedora de bebidas.\n",
    "\n",
    "Cada produto tem um código. O tipo de produto é dado pelas 3 primeiras letras do código.\n",
    "\n",
    "Ex:<br>\n",
    "Vinho -> BEB12302<br>\n",
    "Cerveja -> BEB12043<br>\n",
    "Vodka -> BEB34501<br>\n",
    "\n",
    "Guaraná -> BSA11104<br>\n",
    "Coca -> BSA54301<br>\n",
    "Sprite -> BSA34012<br>\n",
    "Água -> BSA09871<br>\n",
    "\n",
    "Repare que bebidas não alcóolicas começam com BSA e bebidas alcoolicas começam com BEB.\n",
    "\n",
    "Crie um programa que analise uma lista de produtos e envie instruções para a equipe de estoque dizendo quais produtos devem ser enviados para a área de bebidas alcóolicas."
   ]
  },
  {
   "cell_type": "code",
   "execution_count": 1,
   "metadata": {},
   "outputs": [],
   "source": [
    "produtos = ['beb46275','TFA23962','TFA64715','TFA69555','TFA56743','BSA45510','TFA44968','CAR75448','CAR23596','CAR13490','BEB21365','BEB31623','BSA62419','BEB73344','TFA20079','BEB80694','BSA11769','BEB19495','TFA14792','TFA78043','BSA33484','BEB97471','BEB62362','TFA27311','TFA17715','BEB85146','BEB48898','BEB79496','CAR38417','TFA19947','TFA58799','CAR94811','BSA59251','BEB15385','BEB24213','BEB56262','BSA96915','CAR53454','BEB75073']\n",
    "\n",
    "def transformar_lista_minusculo(lista = str([])):\n",
    "    for i in range(len(lista)):\n",
    "        lista[i] = lista[i].casefold()\n",
    "    return lista\n",
    "\n",
    "def separar_bebidas(lista = str([])):\n",
    "    lista = transformar_lista_minusculo(lista)\n",
    "    for codigo in lista:\n",
    "        if 'beb' in codigo:\n",
    "            print(f'{codigo} deve ser enviada para área de bebidas alcolicas')\n",
    "        elif 'bsa' in codigo:\n",
    "            print(f'{codigo} deve ser enviada para área de bebidas não alcolicas')\n",
    "        else:\n",
    "            print(f'{codigo} deve ser enviado para outro setor')\n"
   ]
  },
  {
   "cell_type": "code",
   "execution_count": 2,
   "metadata": {},
   "outputs": [
    {
     "name": "stdout",
     "output_type": "stream",
     "text": [
      "beb46275 deve ser enviada para área de bebidas alcolicas\n",
      "tfa23962 deve ser enviado para outro setor\n",
      "tfa64715 deve ser enviado para outro setor\n",
      "tfa69555 deve ser enviado para outro setor\n",
      "tfa56743 deve ser enviado para outro setor\n",
      "bsa45510 deve ser enviada para área de bebidas não alcolicas\n",
      "tfa44968 deve ser enviado para outro setor\n",
      "car75448 deve ser enviado para outro setor\n",
      "car23596 deve ser enviado para outro setor\n",
      "car13490 deve ser enviado para outro setor\n",
      "beb21365 deve ser enviada para área de bebidas alcolicas\n",
      "beb31623 deve ser enviada para área de bebidas alcolicas\n",
      "bsa62419 deve ser enviada para área de bebidas não alcolicas\n",
      "beb73344 deve ser enviada para área de bebidas alcolicas\n",
      "tfa20079 deve ser enviado para outro setor\n",
      "beb80694 deve ser enviada para área de bebidas alcolicas\n",
      "bsa11769 deve ser enviada para área de bebidas não alcolicas\n",
      "beb19495 deve ser enviada para área de bebidas alcolicas\n",
      "tfa14792 deve ser enviado para outro setor\n",
      "tfa78043 deve ser enviado para outro setor\n",
      "bsa33484 deve ser enviada para área de bebidas não alcolicas\n",
      "beb97471 deve ser enviada para área de bebidas alcolicas\n",
      "beb62362 deve ser enviada para área de bebidas alcolicas\n",
      "tfa27311 deve ser enviado para outro setor\n",
      "tfa17715 deve ser enviado para outro setor\n",
      "beb85146 deve ser enviada para área de bebidas alcolicas\n",
      "beb48898 deve ser enviada para área de bebidas alcolicas\n",
      "beb79496 deve ser enviada para área de bebidas alcolicas\n",
      "car38417 deve ser enviado para outro setor\n",
      "tfa19947 deve ser enviado para outro setor\n",
      "tfa58799 deve ser enviado para outro setor\n",
      "car94811 deve ser enviado para outro setor\n",
      "bsa59251 deve ser enviada para área de bebidas não alcolicas\n",
      "beb15385 deve ser enviada para área de bebidas alcolicas\n",
      "beb24213 deve ser enviada para área de bebidas alcolicas\n",
      "beb56262 deve ser enviada para área de bebidas alcolicas\n",
      "bsa96915 deve ser enviada para área de bebidas não alcolicas\n",
      "car53454 deve ser enviado para outro setor\n",
      "beb75073 deve ser enviada para área de bebidas alcolicas\n"
     ]
    }
   ],
   "source": [
    "separar_bebidas(produtos)"
   ]
  }
 ],
 "metadata": {
  "kernelspec": {
   "display_name": "Python 3",
   "language": "python",
   "name": "python3"
  },
  "language_info": {
   "codemirror_mode": {
    "name": "ipython",
    "version": 3
   },
   "file_extension": ".py",
   "mimetype": "text/x-python",
   "name": "python",
   "nbconvert_exporter": "python",
   "pygments_lexer": "ipython3",
   "version": "3.11.4"
  }
 },
 "nbformat": 4,
 "nbformat_minor": 4
}
