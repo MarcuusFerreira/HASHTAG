{
 "cells": [
  {
   "cell_type": "code",
   "execution_count": 12,
   "id": "503870e8",
   "metadata": {},
   "outputs": [
    {
     "data": {
      "text/plain": [
       "int"
      ]
     },
     "execution_count": 12,
     "metadata": {},
     "output_type": "execute_result"
    }
   ],
   "source": [
    "faturamento = 1000\n",
    "type(faturamento)"
   ]
  },
  {
   "cell_type": "code",
   "execution_count": 13,
   "id": "751a4589",
   "metadata": {},
   "outputs": [
    {
     "data": {
      "text/plain": [
       "float"
      ]
     },
     "execution_count": 13,
     "metadata": {},
     "output_type": "execute_result"
    }
   ],
   "source": [
    "faturamento = 1000.00\n",
    "type(faturamento)"
   ]
  },
  {
   "cell_type": "code",
   "execution_count": 14,
   "id": "f8617008",
   "metadata": {},
   "outputs": [
    {
     "data": {
      "text/plain": [
       "str"
      ]
     },
     "execution_count": 14,
     "metadata": {},
     "output_type": "execute_result"
    }
   ],
   "source": [
    "faturamento = '1.000'\n",
    "type(faturamento)"
   ]
  },
  {
   "cell_type": "code",
   "execution_count": 15,
   "id": "abf73109",
   "metadata": {},
   "outputs": [
    {
     "data": {
      "text/plain": [
       "bool"
      ]
     },
     "execution_count": 15,
     "metadata": {},
     "output_type": "execute_result"
    }
   ],
   "source": [
    "ganha_bonus = True\n",
    "type(ganha_bonus)"
   ]
  },
  {
   "cell_type": "markdown",
   "id": "18ab16e0",
   "metadata": {},
   "source": [
    "# Misturando Tipos de Variaveis"
   ]
  },
  {
   "cell_type": "code",
   "execution_count": 16,
   "id": "3332a8be",
   "metadata": {},
   "outputs": [
    {
     "name": "stdout",
     "output_type": "stream",
     "text": [
      "O faturamento da loja foi 1000\n"
     ]
    }
   ],
   "source": [
    "faturamento = 1000\n",
    "print(f'O faturamento da loja foi {faturamento}')"
   ]
  },
  {
   "cell_type": "code",
   "execution_count": 17,
   "id": "ac610fbc",
   "metadata": {},
   "outputs": [
    {
     "name": "stdout",
     "output_type": "stream",
     "text": [
      "O faturamento da loja foi 1000\n"
     ]
    }
   ],
   "source": [
    "faturamento = 1000\n",
    "print('O faturamento da loja foi ' + str(faturamento))"
   ]
  },
  {
   "cell_type": "code",
   "execution_count": 19,
   "id": "642edd68",
   "metadata": {},
   "outputs": [
    {
     "name": "stdout",
     "output_type": "stream",
     "text": [
      "O faturamento da loja foi 2000\n",
      "O custo da loja foi 500\n",
      "Assim o lucro da loja foi de 1500\n"
     ]
    }
   ],
   "source": [
    "faturamento = 2000\n",
    "custo = 500\n",
    "lucro = faturamento - custo\n",
    "print('O faturamento da loja foi ' + str(faturamento))\n",
    "print('O custo da loja foi ' + str(custo))\n",
    "print('Assim o lucro da loja foi de ' + str(lucro))"
   ]
  },
  {
   "cell_type": "markdown",
   "id": "f890ed91",
   "metadata": {},
   "source": [
    "# Método Format"
   ]
  },
  {
   "cell_type": "code",
   "execution_count": 27,
   "id": "95afe13b",
   "metadata": {},
   "outputs": [
    {
     "name": "stdout",
     "output_type": "stream",
     "text": [
      "O faturamento da loja foi 2000\n",
      "O custo da loja foi 500\n",
      "Assim, o lucro da loja foi de 1500\n"
     ]
    }
   ],
   "source": [
    "faturamento = 2000\n",
    "custo = 500\n",
    "lucro = faturamento - custo\n",
    "print('O faturamento da loja foi {}'.format(faturamento))\n",
    "print('O custo da loja foi {}'.format(custo))\n",
    "print('Assim, o lucro da loja foi de {}'.format(lucro))"
   ]
  },
  {
   "cell_type": "code",
   "execution_count": 28,
   "id": "928cb6dc",
   "metadata": {},
   "outputs": [
    {
     "name": "stdout",
     "output_type": "stream",
     "text": [
      "O faturamento da loja foi 2000. O custo da loja foi 500. Assim, o lucro da loja foi de 1500\n"
     ]
    }
   ],
   "source": [
    "faturamento = 2000\n",
    "custo = 500\n",
    "lucro = faturamento - custo\n",
    "print('O faturamento da loja foi {}. O custo da loja foi {}. Assim, o lucro da loja foi de {}'.format(faturamento, custo, lucro))"
   ]
  }
 ],
 "metadata": {
  "kernelspec": {
   "display_name": "Python 3 (ipykernel)",
   "language": "python",
   "name": "python3"
  },
  "language_info": {
   "codemirror_mode": {
    "name": "ipython",
    "version": 3
   },
   "file_extension": ".py",
   "mimetype": "text/x-python",
   "name": "python",
   "nbconvert_exporter": "python",
   "pygments_lexer": "ipython3",
   "version": "3.11.4"
  }
 },
 "nbformat": 4,
 "nbformat_minor": 5
}
