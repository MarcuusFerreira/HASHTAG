{
 "cells": [
  {
   "cell_type": "markdown",
   "metadata": {},
   "source": [
    "# List Comprehensions com if para \"filtrar\" itens\n",
    "\n",
    "### Estrutura:"
   ]
  },
  {
   "cell_type": "raw",
   "metadata": {},
   "source": [
    "lista = [expressão for item in iterable if condicao]"
   ]
  },
  {
   "cell_type": "markdown",
   "metadata": {},
   "source": [
    "- Digamos que eu queira criar uma lista de produtos que bateram a meta."
   ]
  },
  {
   "cell_type": "code",
   "execution_count": 2,
   "metadata": {
    "ExecuteTime": {
     "end_time": "2023-09-27T02:18:40.968843673Z",
     "start_time": "2023-09-27T02:18:40.960274396Z"
    }
   },
   "outputs": [],
   "source": [
    "meta = 1000\n",
    "vendas_produtos = [1500, 150, 2100, 1950]\n",
    "produtos = ['vinho', 'cafeiteira', 'microondas', 'iphone']"
   ]
  },
  {
   "cell_type": "markdown",
   "metadata": {},
   "source": [
    "Fazendo por For tradicional"
   ]
  },
  {
   "cell_type": "code",
   "execution_count": 6,
   "metadata": {
    "ExecuteTime": {
     "end_time": "2023-09-27T02:20:34.560312624Z",
     "start_time": "2023-09-27T02:20:34.543881342Z"
    }
   },
   "outputs": [
    {
     "name": "stdout",
     "output_type": "stream",
     "text": [
      "O produto vinho bateu a meta de vendas do mês\n",
      "O produto microondas bateu a meta de vendas do mês\n",
      "O produto iphone bateu a meta de vendas do mês\n"
     ]
    }
   ],
   "source": [
    "meta = 1000\n",
    "for i, item in enumerate(vendas_produtos):\n",
    "    if item >= meta:\n",
    "        print(f'O produto {produtos[i]} bateu a meta de vendas do mês')"
   ]
  },
  {
   "cell_type": "markdown",
   "metadata": {},
   "source": [
    "Fazendo por list comprehension"
   ]
  },
  {
   "cell_type": "code",
   "execution_count": 7,
   "metadata": {
    "ExecuteTime": {
     "end_time": "2023-09-27T02:20:36.564784910Z",
     "start_time": "2023-09-27T02:20:36.522511307Z"
    }
   },
   "outputs": [
    {
     "name": "stdout",
     "output_type": "stream",
     "text": [
      "['vinho', 'microondas', 'iphone']\n"
     ]
    }
   ],
   "source": [
    "bateu_meta = [produtos[i] for i, item in enumerate(vendas_produtos) if item >= meta]\n",
    "print(bateu_meta)"
   ]
  }
 ],
 "metadata": {
  "kernelspec": {
   "display_name": "Python 3",
   "language": "python",
   "name": "python3"
  },
  "language_info": {
   "codemirror_mode": {
    "name": "ipython",
    "version": 3
   },
   "file_extension": ".py",
   "mimetype": "text/x-python",
   "name": "python",
   "nbconvert_exporter": "python",
   "pygments_lexer": "ipython3",
   "version": "3.8.3"
  }
 },
 "nbformat": 4,
 "nbformat_minor": 4
}
