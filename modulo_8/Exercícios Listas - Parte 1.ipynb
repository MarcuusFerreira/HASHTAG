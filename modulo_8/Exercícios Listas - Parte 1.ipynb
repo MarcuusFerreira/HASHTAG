{
 "cells": [
  {
   "cell_type": "markdown",
   "metadata": {},
   "source": [
    "# Exercícios\n",
    "\n",
    "## 1. Faturamento do Melhor e do Pior Mês do Ano\n",
    "\n",
    "Qual foi o valor de vendas do melhor mês do Ano?\n",
    "E valor do pior mês do ano?"
   ]
  },
  {
   "cell_type": "code",
   "execution_count": 21,
   "metadata": {},
   "outputs": [
    {
     "name": "stdout",
     "output_type": "stream",
     "text": [
      "O melhor mês em vendas desse ano foi o mes de nov com 49051 unidades vendidas.\n",
      "E o pior mês de vendas foi o mês de dez com 9650 unidades vendidas.\n"
     ]
    }
   ],
   "source": [
    "meses = ['jan', 'fev', 'mar', 'abr', 'mai', 'jun', 'jul', 'ago', 'set', 'out', 'nov', 'dez']\n",
    "vendas_1sem = [25000, 29000, 22200, 17750, 15870, 19900]\n",
    "vendas_2sem = [19850, 20120, 17540, 15555, 49051, 9650]\n",
    "\n",
    "vendas = vendas_1sem + vendas_2sem\n",
    "i = vendas.index(max(vendas))\n",
    "j = vendas.index(min(vendas))\n",
    "\n",
    "print(f'O melhor mês em vendas desse ano foi o mes de {meses[i]} com {vendas[i]} unidades vendidas.\\nE o pior mês de vendas foi o mês de {meses[j]} com {vendas[j]} unidades vendidas.')"
   ]
  },
  {
   "cell_type": "markdown",
   "metadata": {},
   "source": [
    "## 2. Continuação\n",
    "\n",
    "Agora relacione as duas listas para printar 'O melhor mês do ano foi {} com {} vendas' e o mesmo para o pior mês do ano.\n",
    "\n",
    "Calcule também o faturamento total do Ano e quanto que o melhor mês representou do faturamento total.\n",
    "\n",
    "Obs: Para o faturamento total, pode usar a função sum(lista) que soma todos os itens de uma lista"
   ]
  },
  {
   "cell_type": "code",
   "execution_count": 22,
   "metadata": {},
   "outputs": [
    {
     "name": "stdout",
     "output_type": "stream",
     "text": [
      "O melhor mês em vendas desse ano foi o mes de nov com 49051 unidades vendidas.\n",
      "E o pior mês de vendas foi o mês de dez com 9650 unidades vendidas.\n",
      "O mês de nov representa 18.76% do faturamento anual\n"
     ]
    }
   ],
   "source": [
    "print(f'O melhor mês em vendas desse ano foi o mes de {meses[i]} com {vendas[i]} unidades vendidas.\\nE o pior mês de vendas foi o mês de {meses[j]} com {vendas[j]} unidades vendidas.')\n",
    "\n",
    "faturamento_total = sum(vendas)\n",
    "melhor_mes_vendas = vendas[i]\n",
    "\n",
    "porcentagem = (melhor_mes_vendas / faturamento_total) * 100\n",
    "\n",
    "print(f'O mês de {meses[i]} representa {porcentagem:.2f}% do faturamento anual')"
   ]
  },
  {
   "cell_type": "markdown",
   "metadata": {},
   "source": [
    "## 3. Crie uma lista com o top 3 valores de vendas do ano (sem fazer \"no olho\")\n",
    "\n",
    "Dica: o método remove retira um item da lista."
   ]
  },
  {
   "cell_type": "code",
   "execution_count": 24,
   "metadata": {},
   "outputs": [
    {
     "name": "stdout",
     "output_type": "stream",
     "text": [
      "[49051, 29000, 25000]\n"
     ]
    }
   ],
   "source": [
    "vendas.sort(reverse=True)\n",
    "top3 = vendas[0:3]\n",
    "\n",
    "print(top3)"
   ]
  }
 ],
 "metadata": {
  "kernelspec": {
   "display_name": "Python 3",
   "language": "python",
   "name": "python3"
  },
  "language_info": {
   "codemirror_mode": {
    "name": "ipython",
    "version": 3
   },
   "file_extension": ".py",
   "mimetype": "text/x-python",
   "name": "python",
   "nbconvert_exporter": "python",
   "pygments_lexer": "ipython3",
   "version": "3.11.4"
  }
 },
 "nbformat": 4,
 "nbformat_minor": 4
}
