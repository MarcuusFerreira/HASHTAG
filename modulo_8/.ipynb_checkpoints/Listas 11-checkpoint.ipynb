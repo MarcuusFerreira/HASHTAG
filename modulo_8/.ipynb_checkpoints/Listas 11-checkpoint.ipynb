{
 "cells": [
  {
   "cell_type": "markdown",
   "metadata": {},
   "source": [
    "# Copiar e \"Igualdade\" de Listas\n",
    "\n",
    "### Estrutura:\n",
    "\n",
    "- Quando fazemos:<br>\n",
    "lista2 = lista1<br>\n",
    "não estamos criando uma lista nova, mas estamos atribuindo outra variável à mesma lista.\n",
    "\n",
    "- Se quisermos copiar lista devemos fazer<br>\n",
    "lista2 = lista1.copy()<br>\n",
    "ou entao<br>\n",
    "lista2 = lista1[:]\n",
    "\n",
    "Para entender bem isso, vamos ver na prática:"
   ]
  },
  {
   "cell_type": "code",
   "execution_count": 1,
   "metadata": {
    "is_executing": true
   },
   "outputs": [
    {
     "name": "stdout",
     "output_type": "stream",
     "text": [
      "['LeNovo IdeaPad 3i', 'Dell Vostro', 'Samsung Book 3']\n",
      "['ipad', 'iphone x', 'apple tv', 'LeNovo IdeaPad 3i', 'Dell Inspiron 15 3000', 'Samsung Book 3']\n",
      "['ipad', 'iphone 11', 'apple tv']\n",
      "['ipad', 'iphone 11', 'apple tv']\n"
     ]
    }
   ],
   "source": [
    "lista = ['ipad', 'iphone x', 'apple tv']\n",
    "lista2 = lista\n",
    "novos_produtos = ['LeNovo IdeaPad 3i', 'Dell Inspiron 15 3000', 'Samsung Book 3']\n",
    "lista_nova = lista + novos_produtos\n",
    "novos_produtos[1] = 'Dell Vostro'\n",
    "\n",
    "\n",
    "lista[1] = 'iphone 11'\n",
    "\n",
    "print(novos_produtos)\n",
    "print(lista_nova)\n",
    "\n",
    "print(lista)\n",
    "print(lista2)"
   ]
  },
  {
   "cell_type": "markdown",
   "metadata": {},
   "source": [
    "### Agora copiando:"
   ]
  },
  {
   "cell_type": "code",
   "execution_count": 1,
   "metadata": {},
   "outputs": [
    {
     "name": "stdout",
     "output_type": "stream",
     "text": [
      "['ipad', 'iphone 11', 'apple tv']\n",
      "['ipad', 'iphone x', 'apple tv']\n",
      "Olá, mundo\n"
     ]
    }
   ],
   "source": [
    "lista = ['ipad', 'iphone x', 'apple tv']\n",
    "lista2 = lista.copy()\n",
    "\n",
    "lista[1] = 'iphone 11'\n",
    "\n",
    "print(lista)\n",
    "print(lista2)"
   ]
  }
 ],
 "metadata": {
  "kernelspec": {
   "display_name": "Python 3 (ipykernel)",
   "language": "python",
   "name": "python3"
  },
  "language_info": {
   "codemirror_mode": {
    "name": "ipython",
    "version": 3
   },
   "file_extension": ".py",
   "mimetype": "text/x-python",
   "name": "python",
   "nbconvert_exporter": "python",
   "pygments_lexer": "ipython3",
   "version": "3.11.4"
  }
 },
 "nbformat": 4,
 "nbformat_minor": 4
}
