{
 "cells": [
  {
   "cell_type": "markdown",
   "metadata": {},
   "source": [
    "# Como instalar um Módulo/Biblioteca que não tenha no seu computador\n",
    "\n",
    "### Estrutura:\n",
    "\n",
    "- Usaremos o \"pip\" para isso. É um gerenciador de módulos/pacotes/bibliotecas que ajuda a gente a instalar, atualizar, desinstalar novos módulos\n",
    "- Não precisa dominar pip, apenas os comandos que vamos usar aqui mesmo\n",
    "\n",
    "Passo 1: Abrir o Prompt do Anaconda<br>\n",
    "Passo 2: Instalar com o pip os pacotes que quiser<br>\n",
    "Passo 3: Reiniciar o Jupyter (nem sempre necessário, mas na dúvida é melhor fazer)<br>"
   ]
  },
  {
   "cell_type": "code",
   "execution_count": 10,
   "metadata": {
    "ExecuteTime": {
     "end_time": "2023-09-26T20:11:26.921988505Z",
     "start_time": "2023-09-26T20:11:26.827897374Z"
    }
   },
   "outputs": [
    {
     "ename": "ImportError",
     "evalue": "You must be root to use this library on linux.",
     "output_type": "error",
     "traceback": [
      "\u001B[0;31m---------------------------------------------------------------------------\u001B[0m",
      "\u001B[0;31mImportError\u001B[0m                               Traceback (most recent call last)",
      "Cell \u001B[0;32mIn[10], line 3\u001B[0m\n\u001B[1;32m      1\u001B[0m \u001B[38;5;28;01mimport\u001B[39;00m \u001B[38;5;21;01mkeyboard\u001B[39;00m\n\u001B[0;32m----> 3\u001B[0m keyboard\u001B[38;5;241m.\u001B[39mpress_and_release(\u001B[38;5;124m'\u001B[39m\u001B[38;5;124mctrl+t\u001B[39m\u001B[38;5;124m'\u001B[39m)\n\u001B[1;32m      5\u001B[0m keyboard\u001B[38;5;241m.\u001B[39mwrite(\u001B[38;5;124m'\u001B[39m\u001B[38;5;124mhashtagtreinamentos.com\u001B[39m\u001B[38;5;124m'\u001B[39m)\n\u001B[1;32m      7\u001B[0m keyboard\u001B[38;5;241m.\u001B[39mpress_and_release(\u001B[38;5;124m'\u001B[39m\u001B[38;5;124menter\u001B[39m\u001B[38;5;124m'\u001B[39m)\n",
      "File \u001B[0;32m~/anaconda3/lib/python3.11/site-packages/keyboard/__init__.py:379\u001B[0m, in \u001B[0;36msend\u001B[0;34m(hotkey, do_press, do_release)\u001B[0m\n\u001B[1;32m    362\u001B[0m \u001B[38;5;250m\u001B[39m\u001B[38;5;124;03m\"\"\"\u001B[39;00m\n\u001B[1;32m    363\u001B[0m \u001B[38;5;124;03mSends OS events that perform the given *hotkey* hotkey.\u001B[39;00m\n\u001B[1;32m    364\u001B[0m \n\u001B[0;32m   (...)\u001B[0m\n\u001B[1;32m    375\u001B[0m \u001B[38;5;124;03mNote: keys are released in the opposite order they were pressed.\u001B[39;00m\n\u001B[1;32m    376\u001B[0m \u001B[38;5;124;03m\"\"\"\u001B[39;00m\n\u001B[1;32m    377\u001B[0m _listener\u001B[38;5;241m.\u001B[39mis_replaying \u001B[38;5;241m=\u001B[39m \u001B[38;5;28;01mTrue\u001B[39;00m\n\u001B[0;32m--> 379\u001B[0m parsed \u001B[38;5;241m=\u001B[39m parse_hotkey(hotkey)\n\u001B[1;32m    380\u001B[0m \u001B[38;5;28;01mfor\u001B[39;00m step \u001B[38;5;129;01min\u001B[39;00m parsed:\n\u001B[1;32m    381\u001B[0m     \u001B[38;5;28;01mif\u001B[39;00m do_press:\n",
      "File \u001B[0;32m~/anaconda3/lib/python3.11/site-packages/keyboard/__init__.py:358\u001B[0m, in \u001B[0;36mparse_hotkey\u001B[0;34m(hotkey)\u001B[0m\n\u001B[1;32m    356\u001B[0m \u001B[38;5;28;01mfor\u001B[39;00m step \u001B[38;5;129;01min\u001B[39;00m _re\u001B[38;5;241m.\u001B[39msplit(\u001B[38;5;124mr\u001B[39m\u001B[38;5;124m'\u001B[39m\u001B[38;5;124m,\u001B[39m\u001B[38;5;124m\\\u001B[39m\u001B[38;5;124ms?\u001B[39m\u001B[38;5;124m'\u001B[39m, hotkey):\n\u001B[1;32m    357\u001B[0m     keys \u001B[38;5;241m=\u001B[39m _re\u001B[38;5;241m.\u001B[39msplit(\u001B[38;5;124mr\u001B[39m\u001B[38;5;124m'\u001B[39m\u001B[38;5;124m\\\u001B[39m\u001B[38;5;124ms?\u001B[39m\u001B[38;5;124m\\\u001B[39m\u001B[38;5;124m+\u001B[39m\u001B[38;5;124m\\\u001B[39m\u001B[38;5;124ms?\u001B[39m\u001B[38;5;124m'\u001B[39m, step)\n\u001B[0;32m--> 358\u001B[0m     steps\u001B[38;5;241m.\u001B[39mappend(\u001B[38;5;28mtuple\u001B[39m(key_to_scan_codes(key) \u001B[38;5;28;01mfor\u001B[39;00m key \u001B[38;5;129;01min\u001B[39;00m keys))\n\u001B[1;32m    359\u001B[0m \u001B[38;5;28;01mreturn\u001B[39;00m \u001B[38;5;28mtuple\u001B[39m(steps)\n",
      "File \u001B[0;32m~/anaconda3/lib/python3.11/site-packages/keyboard/__init__.py:358\u001B[0m, in \u001B[0;36m<genexpr>\u001B[0;34m(.0)\u001B[0m\n\u001B[1;32m    356\u001B[0m \u001B[38;5;28;01mfor\u001B[39;00m step \u001B[38;5;129;01min\u001B[39;00m _re\u001B[38;5;241m.\u001B[39msplit(\u001B[38;5;124mr\u001B[39m\u001B[38;5;124m'\u001B[39m\u001B[38;5;124m,\u001B[39m\u001B[38;5;124m\\\u001B[39m\u001B[38;5;124ms?\u001B[39m\u001B[38;5;124m'\u001B[39m, hotkey):\n\u001B[1;32m    357\u001B[0m     keys \u001B[38;5;241m=\u001B[39m _re\u001B[38;5;241m.\u001B[39msplit(\u001B[38;5;124mr\u001B[39m\u001B[38;5;124m'\u001B[39m\u001B[38;5;124m\\\u001B[39m\u001B[38;5;124ms?\u001B[39m\u001B[38;5;124m\\\u001B[39m\u001B[38;5;124m+\u001B[39m\u001B[38;5;124m\\\u001B[39m\u001B[38;5;124ms?\u001B[39m\u001B[38;5;124m'\u001B[39m, step)\n\u001B[0;32m--> 358\u001B[0m     steps\u001B[38;5;241m.\u001B[39mappend(\u001B[38;5;28mtuple\u001B[39m(key_to_scan_codes(key) \u001B[38;5;28;01mfor\u001B[39;00m key \u001B[38;5;129;01min\u001B[39;00m keys))\n\u001B[1;32m    359\u001B[0m \u001B[38;5;28;01mreturn\u001B[39;00m \u001B[38;5;28mtuple\u001B[39m(steps)\n",
      "File \u001B[0;32m~/anaconda3/lib/python3.11/site-packages/keyboard/__init__.py:311\u001B[0m, in \u001B[0;36mkey_to_scan_codes\u001B[0;34m(key, error_if_missing)\u001B[0m\n\u001B[1;32m    309\u001B[0m normalized \u001B[38;5;241m=\u001B[39m normalize_name(key)\n\u001B[1;32m    310\u001B[0m \u001B[38;5;28;01mif\u001B[39;00m normalized \u001B[38;5;129;01min\u001B[39;00m sided_modifiers:\n\u001B[0;32m--> 311\u001B[0m     left_scan_codes \u001B[38;5;241m=\u001B[39m key_to_scan_codes(\u001B[38;5;124m'\u001B[39m\u001B[38;5;124mleft \u001B[39m\u001B[38;5;124m'\u001B[39m \u001B[38;5;241m+\u001B[39m normalized, \u001B[38;5;28;01mFalse\u001B[39;00m)\n\u001B[1;32m    312\u001B[0m     right_scan_codes \u001B[38;5;241m=\u001B[39m key_to_scan_codes(\u001B[38;5;124m'\u001B[39m\u001B[38;5;124mright \u001B[39m\u001B[38;5;124m'\u001B[39m \u001B[38;5;241m+\u001B[39m normalized, \u001B[38;5;28;01mFalse\u001B[39;00m)\n\u001B[1;32m    313\u001B[0m     \u001B[38;5;28;01mreturn\u001B[39;00m left_scan_codes \u001B[38;5;241m+\u001B[39m \u001B[38;5;28mtuple\u001B[39m(c \u001B[38;5;28;01mfor\u001B[39;00m c \u001B[38;5;129;01min\u001B[39;00m right_scan_codes \u001B[38;5;28;01mif\u001B[39;00m c \u001B[38;5;129;01mnot\u001B[39;00m \u001B[38;5;129;01min\u001B[39;00m left_scan_codes)\n",
      "File \u001B[0;32m~/anaconda3/lib/python3.11/site-packages/keyboard/__init__.py:317\u001B[0m, in \u001B[0;36mkey_to_scan_codes\u001B[0;34m(key, error_if_missing)\u001B[0m\n\u001B[1;32m    313\u001B[0m     \u001B[38;5;28;01mreturn\u001B[39;00m left_scan_codes \u001B[38;5;241m+\u001B[39m \u001B[38;5;28mtuple\u001B[39m(c \u001B[38;5;28;01mfor\u001B[39;00m c \u001B[38;5;129;01min\u001B[39;00m right_scan_codes \u001B[38;5;28;01mif\u001B[39;00m c \u001B[38;5;129;01mnot\u001B[39;00m \u001B[38;5;129;01min\u001B[39;00m left_scan_codes)\n\u001B[1;32m    315\u001B[0m \u001B[38;5;28;01mtry\u001B[39;00m:\n\u001B[1;32m    316\u001B[0m     \u001B[38;5;66;03m# Put items in ordered dict to remove duplicates.\u001B[39;00m\n\u001B[0;32m--> 317\u001B[0m     t \u001B[38;5;241m=\u001B[39m \u001B[38;5;28mtuple\u001B[39m(_collections\u001B[38;5;241m.\u001B[39mOrderedDict((scan_code, \u001B[38;5;28;01mTrue\u001B[39;00m) \u001B[38;5;28;01mfor\u001B[39;00m scan_code, modifier \u001B[38;5;129;01min\u001B[39;00m _os_keyboard\u001B[38;5;241m.\u001B[39mmap_name(normalized)))\n\u001B[1;32m    318\u001B[0m     e \u001B[38;5;241m=\u001B[39m \u001B[38;5;28;01mNone\u001B[39;00m\n\u001B[1;32m    319\u001B[0m \u001B[38;5;28;01mexcept\u001B[39;00m (\u001B[38;5;167;01mKeyError\u001B[39;00m, \u001B[38;5;167;01mValueError\u001B[39;00m) \u001B[38;5;28;01mas\u001B[39;00m exception:\n",
      "File \u001B[0;32m~/anaconda3/lib/python3.11/site-packages/keyboard/__init__.py:317\u001B[0m, in \u001B[0;36m<genexpr>\u001B[0;34m(.0)\u001B[0m\n\u001B[1;32m    313\u001B[0m     \u001B[38;5;28;01mreturn\u001B[39;00m left_scan_codes \u001B[38;5;241m+\u001B[39m \u001B[38;5;28mtuple\u001B[39m(c \u001B[38;5;28;01mfor\u001B[39;00m c \u001B[38;5;129;01min\u001B[39;00m right_scan_codes \u001B[38;5;28;01mif\u001B[39;00m c \u001B[38;5;129;01mnot\u001B[39;00m \u001B[38;5;129;01min\u001B[39;00m left_scan_codes)\n\u001B[1;32m    315\u001B[0m \u001B[38;5;28;01mtry\u001B[39;00m:\n\u001B[1;32m    316\u001B[0m     \u001B[38;5;66;03m# Put items in ordered dict to remove duplicates.\u001B[39;00m\n\u001B[0;32m--> 317\u001B[0m     t \u001B[38;5;241m=\u001B[39m \u001B[38;5;28mtuple\u001B[39m(_collections\u001B[38;5;241m.\u001B[39mOrderedDict((scan_code, \u001B[38;5;28;01mTrue\u001B[39;00m) \u001B[38;5;28;01mfor\u001B[39;00m scan_code, modifier \u001B[38;5;129;01min\u001B[39;00m _os_keyboard\u001B[38;5;241m.\u001B[39mmap_name(normalized)))\n\u001B[1;32m    318\u001B[0m     e \u001B[38;5;241m=\u001B[39m \u001B[38;5;28;01mNone\u001B[39;00m\n\u001B[1;32m    319\u001B[0m \u001B[38;5;28;01mexcept\u001B[39;00m (\u001B[38;5;167;01mKeyError\u001B[39;00m, \u001B[38;5;167;01mValueError\u001B[39;00m) \u001B[38;5;28;01mas\u001B[39;00m exception:\n",
      "File \u001B[0;32m~/anaconda3/lib/python3.11/site-packages/keyboard/_nixkeyboard.py:148\u001B[0m, in \u001B[0;36mmap_name\u001B[0;34m(name)\u001B[0m\n\u001B[1;32m    147\u001B[0m \u001B[38;5;28;01mdef\u001B[39;00m \u001B[38;5;21mmap_name\u001B[39m(name):\n\u001B[0;32m--> 148\u001B[0m     build_tables()\n\u001B[1;32m    149\u001B[0m     \u001B[38;5;28;01mfor\u001B[39;00m entry \u001B[38;5;129;01min\u001B[39;00m from_name[name]:\n\u001B[1;32m    150\u001B[0m         \u001B[38;5;28;01myield\u001B[39;00m entry\n",
      "File \u001B[0;32m~/anaconda3/lib/python3.11/site-packages/keyboard/_nixkeyboard.py:64\u001B[0m, in \u001B[0;36mbuild_tables\u001B[0;34m()\u001B[0m\n\u001B[1;32m     62\u001B[0m \u001B[38;5;28;01mdef\u001B[39;00m \u001B[38;5;21mbuild_tables\u001B[39m():\n\u001B[1;32m     63\u001B[0m     \u001B[38;5;28;01mif\u001B[39;00m to_name \u001B[38;5;129;01mand\u001B[39;00m from_name: \u001B[38;5;28;01mreturn\u001B[39;00m\n\u001B[0;32m---> 64\u001B[0m     ensure_root()\n\u001B[1;32m     66\u001B[0m     modifiers_bits \u001B[38;5;241m=\u001B[39m {\n\u001B[1;32m     67\u001B[0m         \u001B[38;5;124m'\u001B[39m\u001B[38;5;124mshift\u001B[39m\u001B[38;5;124m'\u001B[39m: \u001B[38;5;241m1\u001B[39m,\n\u001B[1;32m     68\u001B[0m         \u001B[38;5;124m'\u001B[39m\u001B[38;5;124malt gr\u001B[39m\u001B[38;5;124m'\u001B[39m: \u001B[38;5;241m2\u001B[39m,\n\u001B[1;32m     69\u001B[0m         \u001B[38;5;124m'\u001B[39m\u001B[38;5;124mctrl\u001B[39m\u001B[38;5;124m'\u001B[39m: \u001B[38;5;241m4\u001B[39m,\n\u001B[1;32m     70\u001B[0m         \u001B[38;5;124m'\u001B[39m\u001B[38;5;124malt\u001B[39m\u001B[38;5;124m'\u001B[39m: \u001B[38;5;241m8\u001B[39m,\n\u001B[1;32m     71\u001B[0m     }\n\u001B[1;32m     72\u001B[0m     keycode_template \u001B[38;5;241m=\u001B[39m \u001B[38;5;124mr\u001B[39m\u001B[38;5;124m'\u001B[39m\u001B[38;5;124m^keycode\u001B[39m\u001B[38;5;124m\\\u001B[39m\u001B[38;5;124ms+(\u001B[39m\u001B[38;5;124m\\\u001B[39m\u001B[38;5;124md+)\u001B[39m\u001B[38;5;124m\\\u001B[39m\u001B[38;5;124ms+=(.*?)$\u001B[39m\u001B[38;5;124m'\u001B[39m\n",
      "File \u001B[0;32m~/anaconda3/lib/python3.11/site-packages/keyboard/_nixcommon.py:174\u001B[0m, in \u001B[0;36mensure_root\u001B[0;34m()\u001B[0m\n\u001B[1;32m    172\u001B[0m \u001B[38;5;28;01mdef\u001B[39;00m \u001B[38;5;21mensure_root\u001B[39m():\n\u001B[1;32m    173\u001B[0m     \u001B[38;5;28;01mif\u001B[39;00m os\u001B[38;5;241m.\u001B[39mgeteuid() \u001B[38;5;241m!=\u001B[39m \u001B[38;5;241m0\u001B[39m:\n\u001B[0;32m--> 174\u001B[0m         \u001B[38;5;28;01mraise\u001B[39;00m \u001B[38;5;167;01mImportError\u001B[39;00m(\u001B[38;5;124m'\u001B[39m\u001B[38;5;124mYou must be root to use this library on linux.\u001B[39m\u001B[38;5;124m'\u001B[39m)\n",
      "\u001B[0;31mImportError\u001B[0m: You must be root to use this library on linux."
     ]
    }
   ],
   "source": [
    "import keyboard\n",
    "\n",
    "keyboard.press_and_release('ctrl+t')\n",
    "\n",
    "keyboard.write('hashtagtreinamentos.com')\n",
    "\n",
    "keyboard.press_and_release('enter')"
   ]
  },
  {
   "cell_type": "code",
   "execution_count": null,
   "outputs": [],
   "source": [],
   "metadata": {
    "collapsed": false
   }
  },
  {
   "cell_type": "code",
   "execution_count": null,
   "outputs": [],
   "source": [],
   "metadata": {
    "collapsed": false
   }
  }
 ],
 "metadata": {
  "kernelspec": {
   "display_name": "Python 3",
   "language": "python",
   "name": "python3"
  },
  "language_info": {
   "codemirror_mode": {
    "name": "ipython",
    "version": 3
   },
   "file_extension": ".py",
   "mimetype": "text/x-python",
   "name": "python",
   "nbconvert_exporter": "python",
   "pygments_lexer": "ipython3",
   "version": "3.8.3"
  }
 },
 "nbformat": 4,
 "nbformat_minor": 4
}
