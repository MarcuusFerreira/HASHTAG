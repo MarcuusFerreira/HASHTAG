{
 "cells": [
  {
   "cell_type": "markdown",
   "metadata": {},
   "source": [
    "# Cuidado com o while -> Loop Infinito\n",
    "\n",
    "Sempre que for usar o comando while, lembre-se de ter certeza que o programa vai terminar em algum momento\n",
    "\n",
    "### Exemplo\n",
    "\n",
    "Digamos que temos uma lista de vendedores e as quantidades vendidas e queremos identificar todos os vendedores que bateram a meta de 50 vendas."
   ]
  },
  {
   "cell_type": "code",
   "execution_count": 1,
   "metadata": {},
   "outputs": [
    {
     "name": "stdout",
     "output_type": "stream",
     "text": [
      "Maria bateu a meta de vendas do mês\n",
      "José bateu a meta de vendas do mês\n",
      "Antônio bateu a meta de vendas do mês\n",
      "João bateu a meta de vendas do mês\n",
      "Francisco bateu a meta de vendas do mês\n",
      "Ana bateu a meta de vendas do mês\n",
      "Luiz bateu a meta de vendas do mês\n",
      "Paulo bateu a meta de vendas do mês\n",
      "Carlos bateu a meta de vendas do mês\n",
      "Manoel bateu a meta de vendas do mês\n",
      "Pedro bateu a meta de vendas do mês\n",
      "Francisca bateu a meta de vendas do mês\n",
      "Marcos bateu a meta de vendas do mês\n",
      "Raimundo bateu a meta de vendas do mês\n",
      "Sebastião bateu a meta de vendas do mês\n",
      "Antônia bateu a meta de vendas do mês\n",
      "Marcelo bateu a meta de vendas do mês\n",
      "Jorge bateu a meta de vendas do mês\n",
      "Márcia bateu a meta de vendas do mês\n",
      "Geraldo bateu a meta de vendas do mês\n",
      "Adriana bateu a meta de vendas do mês\n"
     ]
    }
   ],
   "source": [
    "vendas = [941, 852, 783, 714, 697, 686, 685, 670, 631, 453, 386, 371, 294, 269, 259, 218, 208, 163, 125, 102, 87, 47, 7]\n",
    "vendedores = ['Maria', 'José', 'Antônio', 'João', 'Francisco', 'Ana', 'Luiz', 'Paulo', 'Carlos', 'Manoel', 'Pedro', 'Francisca', 'Marcos', 'Raimundo', 'Sebastião', 'Antônia', 'Marcelo', 'Jorge', 'Márcia', 'Geraldo', 'Adriana', 'Sandra', 'Luis']\n",
    "meta = 50\n",
    "\n",
    "for i, venda in enumerate(vendas):\n",
    "    if venda >= meta:\n",
    "        print(f'{vendedores[i]} bateu a meta de vendas do mês')"
   ]
  },
  {
   "cell_type": "code",
   "execution_count": 7,
   "metadata": {},
   "outputs": [
    {
     "name": "stdout",
     "output_type": "stream",
     "text": [
      "Maria bateu a meta de vendas do mês com 941 vendas\n",
      "José bateu a meta de vendas do mês com 852 vendas\n",
      "Antônio bateu a meta de vendas do mês com 783 vendas\n",
      "João bateu a meta de vendas do mês com 714 vendas\n",
      "Francisco bateu a meta de vendas do mês com 697 vendas\n",
      "Ana bateu a meta de vendas do mês com 686 vendas\n",
      "Luiz bateu a meta de vendas do mês com 685 vendas\n",
      "Paulo bateu a meta de vendas do mês com 670 vendas\n",
      "Carlos bateu a meta de vendas do mês com 631 vendas\n",
      "Manoel bateu a meta de vendas do mês com 453 vendas\n",
      "Pedro bateu a meta de vendas do mês com 386 vendas\n",
      "Francisca bateu a meta de vendas do mês com 371 vendas\n",
      "Marcos bateu a meta de vendas do mês com 294 vendas\n",
      "Raimundo bateu a meta de vendas do mês com 269 vendas\n",
      "Sebastião bateu a meta de vendas do mês com 259 vendas\n",
      "Antônia bateu a meta de vendas do mês com 218 vendas\n",
      "Marcelo bateu a meta de vendas do mês com 208 vendas\n",
      "Jorge bateu a meta de vendas do mês com 163 vendas\n",
      "Márcia bateu a meta de vendas do mês com 125 vendas\n",
      "Geraldo bateu a meta de vendas do mês com 102 vendas\n",
      "Adriana bateu a meta de vendas do mês com 87 vendas\n"
     ]
    }
   ],
   "source": [
    "i = 0\n",
    "\n",
    "while vendas[i] >= meta:\n",
    "    print(f'{vendedores[i]} bateu a meta de vendas do mês com {vendas[i]:,} vendas')\n",
    "    i += 1"
   ]
  }
 ],
 "metadata": {
  "kernelspec": {
   "display_name": "Python 3",
   "language": "python",
   "name": "python3"
  },
  "language_info": {
   "codemirror_mode": {
    "name": "ipython",
    "version": 3
   },
   "file_extension": ".py",
   "mimetype": "text/x-python",
   "name": "python",
   "nbconvert_exporter": "python",
   "pygments_lexer": "ipython3",
   "version": "3.11.4"
  }
 },
 "nbformat": 4,
 "nbformat_minor": 4
}
