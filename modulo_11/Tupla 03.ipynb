{
 "cells": [
  {
   "cell_type": "markdown",
   "metadata": {},
   "source": [
    "# Aplicação de Tupla - Lista de Tuplas\n",
    "\n",
    "### Estrutura:\n",
    "\n",
    "Além de casos como o do enumerate, em que usamos uma função para transformar itens em tuplas porque isso ajuda o nosso código, temos também listas de tuplas como algo comum dentro do Python."
   ]
  },
  {
   "cell_type": "raw",
   "metadata": {},
   "source": [
    "lista = [\n",
    "    tupla1,\n",
    "    tupla2,\n",
    "    tupla3,\n",
    "    ]\n",
    "    \n",
    "ou seja\n",
    "\n",
    "lista = [\n",
    "    (valor1, valor2, valor3),\n",
    "    (valor4, valor5, valor6),\n",
    "    (valor7, valor8, valor9),\n",
    "    ]"
   ]
  },
  {
   "cell_type": "markdown",
   "metadata": {},
   "source": [
    "### Exemplo:\n",
    "\n",
    "Digamos que você está analisando as vendas do Banco de Dados de um e-commerce.\n",
    "\n",
    "Em um determinado dia, você extraiu as vendas do Banco de Dados e elas vieram nesse formato:"
   ]
  },
  {
   "cell_type": "code",
   "execution_count": 4,
   "metadata": {},
   "outputs": [],
   "source": [
    "vendas = [\n",
    "    ('20/08/2020', 'iphone x', 'azul', '128gb', 350, 4000),\n",
    "    ('20/08/2020', 'iphone x', 'prata', '128gb', 1500, 4000),\n",
    "    ('20/08/2020', 'ipad', 'prata', '256gb', 127, 6000),\n",
    "    ('20/08/2020', 'ipad', 'prata', '128gb', 981, 5000),\n",
    "    ('21/08/2020', 'iphone x', 'azul', '128gb', 397, 4000),\n",
    "    ('21/08/2020', 'iphone x', 'prata', '128gb', 1017, 4000),\n",
    "    ('21/08/2020', 'ipad', 'prata', '256gb', 50, 6000),\n",
    "    ('21/08/2020', 'ipad', 'prata', '128gb', 4000, 5000),\n",
    "]"
   ]
  },
  {
   "cell_type": "markdown",
   "metadata": {},
   "source": [
    "- Qual foi o faturamento de IPhone no dia 20/08/2020?\n",
    "- Qual foi o produto mais vendido (em unidades) no dia 21/08/2020?"
   ]
  },
  {
   "cell_type": "code",
   "execution_count": 9,
   "metadata": {},
   "outputs": [
    {
     "name": "stdout",
     "output_type": "stream",
     "text": [
      "7,400,000\n"
     ]
    }
   ],
   "source": [
    "faturamento = 0\n",
    "for tupla in vendas:\n",
    "    if tupla[0] == '20/08/2020' and 'iphone' in tupla[1]:\n",
    "        faturamento += tupla[4] * tupla[5]\n",
    "\n",
    "print(f'O faturamento de iphone foi de: {faturamento:,}')"
   ]
  },
  {
   "cell_type": "code",
   "execution_count": 12,
   "metadata": {},
   "outputs": [
    {
     "name": "stdout",
     "output_type": "stream",
     "text": [
      "O produto mais cendido foi o ipad com 4,000 unidades vendidas\n"
     ]
    }
   ],
   "source": [
    "produto_mais_vendido = str('')\n",
    "qtd_mais_vendida = int(0)\n",
    "\n",
    "for dia, produto, cor, armazenamento, unidades_vendidas, preco in vendas:\n",
    "    if dia == '21/08/2020':\n",
    "        if unidades_vendidas > qtd_mais_vendida:\n",
    "            produto_mais_vendido = produto\n",
    "            qtd_mais_vendida = unidades_vendidas\n",
    "    \n",
    "print(f'O produto mais cendido foi o {produto_mais_vendido} com {qtd_mais_vendida:,} unidades vendidas')"
   ]
  }
 ],
 "metadata": {
  "kernelspec": {
   "display_name": "Python 3",
   "language": "python",
   "name": "python3"
  },
  "language_info": {
   "codemirror_mode": {
    "name": "ipython",
    "version": 3
   },
   "file_extension": ".py",
   "mimetype": "text/x-python",
   "name": "python",
   "nbconvert_exporter": "python",
   "pygments_lexer": "ipython3",
   "version": "3.11.4"
  }
 },
 "nbformat": 4,
 "nbformat_minor": 4
}
