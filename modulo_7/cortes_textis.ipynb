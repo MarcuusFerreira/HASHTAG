{
 "cells": [
  {
   "cell_type": "markdown",
   "metadata": {},
   "source": [
    "## Forma básica"
   ]
  },
  {
   "cell_type": "code",
   "execution_count": 5,
   "metadata": {},
   "outputs": [
    {
     "name": "stdout",
     "output_type": "stream",
     "text": [
      "25\n"
     ]
    }
   ],
   "source": [
    "precos = 'Jan: 25, Fev: 27, Mar: 29'\n",
    "precos_jan = precos[5:7]\n",
    "print(precos_jan)   "
   ]
  },
  {
   "cell_type": "code",
   "execution_count": 17,
   "metadata": {},
   "outputs": [
    {
     "name": "stdout",
     "output_type": "stream",
     "text": [
      "29\n",
      "27\n"
     ]
    }
   ],
   "source": [
    "preco_mar = precos[-2:]\n",
    "print(preco_mar)\n",
    "\n",
    "preco_fev = precos[14:16]\n",
    "print(preco_fev)"
   ]
  },
  {
   "cell_type": "code",
   "execution_count": 28,
   "metadata": {},
   "outputs": [
    {
     "name": "stdout",
     "output_type": "stream",
     "text": [
      "['Jan: 25', ' Fev: 27', ' Mar: 29']\n",
      "25\n",
      "27\n",
      "29\n"
     ]
    }
   ],
   "source": [
    "precos_mes = precos.split(',')\n",
    "print(precos_mes)\n",
    "\n",
    "preco_janeiro = precos_mes[0][-2:]\n",
    "preco_fevereiro = precos_mes[1][-2:]\n",
    "precos_marco = precos_mes[2][-2:]\n",
    "print(preco_janeiro)\n",
    "print(preco_fevereiro)\n",
    "print(precos_marco)"
   ]
  },
  {
   "cell_type": "markdown",
   "metadata": {},
   "source": [
    "## Posição inicial e final com Step"
   ]
  },
  {
   "cell_type": "code",
   "execution_count": 37,
   "metadata": {},
   "outputs": [
    {
     "name": "stdout",
     "output_type": "stream",
     "text": [
      "2345\n",
      "1543\n"
     ]
    }
   ],
   "source": [
    "codigo = \"1.2.3.4,5,1,2.3.4,7.9\"\n",
    "\n",
    "pedaco_codigo = codigo[2:10:2]\n",
    "print(pedaco_codigo)\n",
    "pedaco_codigo = codigo[10:2:-2]\n",
    "print(pedaco_codigo)"
   ]
  }
 ],
 "metadata": {
  "kernelspec": {
   "display_name": "Python 3",
   "language": "python",
   "name": "python3"
  },
  "language_info": {
   "codemirror_mode": {
    "name": "ipython",
    "version": 3
   },
   "file_extension": ".py",
   "mimetype": "text/x-python",
   "name": "python",
   "nbconvert_exporter": "python",
   "pygments_lexer": "ipython3",
   "version": "3.11.4"
  },
  "orig_nbformat": 4
 },
 "nbformat": 4,
 "nbformat_minor": 2
}
